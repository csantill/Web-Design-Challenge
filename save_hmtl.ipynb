{
 "nbformat": 4,
 "nbformat_minor": 2,
 "metadata": {
  "language_info": {
   "name": "python",
   "codemirror_mode": {
    "name": "ipython",
    "version": 3
   },
   "version": "3.6.10-final"
  },
  "orig_nbformat": 2,
  "file_extension": ".py",
  "mimetype": "text/x-python",
  "name": "python",
  "npconvert_exporter": "python",
  "pygments_lexer": "ipython3",
  "version": 3,
  "kernelspec": {
   "name": "python361064bitpythondatacondaec7e8270480d4d8a925de6dc1659eacb",
   "display_name": "Python 3.6.10 64-bit ('PythonData': conda)"
  }
 },
 "cells": [
  {
   "cell_type": "code",
   "execution_count": 25,
   "metadata": {},
   "outputs": [
    {
     "output_type": "execute_result",
     "data": {
      "text/plain": "           City  Cloudiness Country                Date  Humidity    Lat  \\\n0  jacareacanga           0      BR 2018-06-13 15:00:00        62  -6.22   \n1    kaitangata         100      NZ 2018-06-13 15:55:04        94 -46.28   \n2      goulburn          20      AU 2018-06-13 15:51:18        91 -34.75   \n3          lata          76      IN 2018-06-13 15:55:05        89  30.78   \n4    chokurdakh           0      RU 2018-06-13 15:55:06        88  70.62   \n\n      Lng  Max Temp  Wind Speed  \n0  -57.76     89.60        6.93  \n1  169.85     42.61        5.64  \n2  149.72     44.32       10.11  \n3   78.62     59.89        0.94  \n4  147.90     32.17        2.95  ",
      "text/html": "<div>\n<style scoped>\n    .dataframe tbody tr th:only-of-type {\n        vertical-align: middle;\n    }\n\n    .dataframe tbody tr th {\n        vertical-align: top;\n    }\n\n    .dataframe thead th {\n        text-align: right;\n    }\n</style>\n<table border=\"1\" class=\"dataframe\">\n  <thead>\n    <tr style=\"text-align: right;\">\n      <th></th>\n      <th>City</th>\n      <th>Cloudiness</th>\n      <th>Country</th>\n      <th>Date</th>\n      <th>Humidity</th>\n      <th>Lat</th>\n      <th>Lng</th>\n      <th>Max Temp</th>\n      <th>Wind Speed</th>\n    </tr>\n  </thead>\n  <tbody>\n    <tr>\n      <th>0</th>\n      <td>jacareacanga</td>\n      <td>0</td>\n      <td>BR</td>\n      <td>2018-06-13 15:00:00</td>\n      <td>62</td>\n      <td>-6.22</td>\n      <td>-57.76</td>\n      <td>89.60</td>\n      <td>6.93</td>\n    </tr>\n    <tr>\n      <th>1</th>\n      <td>kaitangata</td>\n      <td>100</td>\n      <td>NZ</td>\n      <td>2018-06-13 15:55:04</td>\n      <td>94</td>\n      <td>-46.28</td>\n      <td>169.85</td>\n      <td>42.61</td>\n      <td>5.64</td>\n    </tr>\n    <tr>\n      <th>2</th>\n      <td>goulburn</td>\n      <td>20</td>\n      <td>AU</td>\n      <td>2018-06-13 15:51:18</td>\n      <td>91</td>\n      <td>-34.75</td>\n      <td>149.72</td>\n      <td>44.32</td>\n      <td>10.11</td>\n    </tr>\n    <tr>\n      <th>3</th>\n      <td>lata</td>\n      <td>76</td>\n      <td>IN</td>\n      <td>2018-06-13 15:55:05</td>\n      <td>89</td>\n      <td>30.78</td>\n      <td>78.62</td>\n      <td>59.89</td>\n      <td>0.94</td>\n    </tr>\n    <tr>\n      <th>4</th>\n      <td>chokurdakh</td>\n      <td>0</td>\n      <td>RU</td>\n      <td>2018-06-13 15:55:06</td>\n      <td>88</td>\n      <td>70.62</td>\n      <td>147.90</td>\n      <td>32.17</td>\n      <td>2.95</td>\n    </tr>\n  </tbody>\n</table>\n</div>"
     },
     "metadata": {},
     "execution_count": 25
    }
   ],
   "source": [
    "import pandas as pd\n",
    "from datetime import datetime\n",
    "\n",
    "data=pd.read_csv(\"Resources/cities.csv\")\n",
    "data['Date'] = pd.to_datetime(data['Date'],unit='s')\n",
    "data.set_index(\"City_ID\",drop=True,inplace=True)\n",
    "data.reset_index(drop=True,inplace=True)\n",
    "data.head()"
   ]
  },
  {
   "cell_type": "code",
   "execution_count": 26,
   "metadata": {},
   "outputs": [],
   "source": [
    "data.to_html('raw_data.html',float_format='{:,.2f}'.format,index=False)"
   ]
  },
  {
   "cell_type": "code",
   "execution_count": null,
   "metadata": {},
   "outputs": [],
   "source": []
  }
 ]
}